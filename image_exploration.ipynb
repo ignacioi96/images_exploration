{
 "cells": [
  {
   "cell_type": "code",
   "execution_count": null,
   "metadata": {},
   "outputs": [],
   "source": [
    "\n",
    "import numpy as np\n"
   ]
  },
  {
   "cell_type": "code",
   "execution_count": null,
   "metadata": {},
   "outputs": [],
   "source": [
    "# input: - set of images to be displayed\n",
    "#        - the amount of images per row and column\n",
    "# returns: nothing\n",
    "# effect: displays the images ordered with rows and columns given\n",
    "def plotNImages(imgs, row, col):\n",
    "    fig, ax = plt.subplots(row, col)\n",
    "    fig.dpi = 700\n",
    "    i = len(imgs)-1\n",
    "    for j in range(row):\n",
    "        for k in range(col):\n",
    "            ax[j,k].imshow(imgs[i]);\n",
    "            ax[j,k].set_xticks([])\n",
    "            ax[j,k].set_yticks([])\n",
    "            i -= 1"
   ]
  }
 ],
 "metadata": {
  "kernelspec": {
   "display_name": "Python 3",
   "language": "python",
   "name": "python3"
  },
  "language_info": {
   "codemirror_mode": {
    "name": "ipython",
    "version": 3
   },
   "file_extension": ".py",
   "mimetype": "text/x-python",
   "name": "python",
   "nbconvert_exporter": "python",
   "pygments_lexer": "ipython3",
   "version": "3.7.1"
  }
 },
 "nbformat": 4,
 "nbformat_minor": 2
}
